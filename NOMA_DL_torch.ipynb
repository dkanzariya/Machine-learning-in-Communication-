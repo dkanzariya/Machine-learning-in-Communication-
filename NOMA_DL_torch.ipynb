{
  "nbformat": 4,
  "nbformat_minor": 0,
  "metadata": {
    "colab": {
      "name": "NOMA_DL_torch.ipynb",
      "provenance": [],
      "collapsed_sections": []
    },
    "kernelspec": {
      "name": "python3",
      "display_name": "Python 3"
    },
    "accelerator": "GPU"
  },
  "cells": [
    {
      "cell_type": "code",
      "metadata": {
        "id": "YPjrsdsdqLg_",
        "colab_type": "code",
        "colab": {}
      },
      "source": [
        "import numpy as np\n",
        "import math\n",
        "import torch\n",
        "from torch import nn\n",
        "import matplotlib.pyplot as plt\n",
        "import tensorflow as tf\n",
        "import torch.optim as optim\n",
        "\n",
        "np.random.seed(5)\n",
        "\n",
        "bit = 8\n",
        "SNR_db = np.array(list(range(2 ,11 ,2)))\n",
        "batch_size = 5"
      ],
      "execution_count": 29,
      "outputs": []
    },
    {
      "cell_type": "code",
      "metadata": {
        "id": "a-_qhwrYnWAn",
        "colab_type": "code",
        "colab": {}
      },
      "source": [
        "def generate_data_bit(bit, batch_size):\n",
        "\n",
        "    input = [[0 for _ in range(pow(2, bit)) ]for _ in range(bit)]       #len = 8 [0,1]\n",
        "    label = [[0 for _ in range(pow(2, bit)) ]for _ in range( 2 * bit)]   #len = 16 [0,1]\n",
        "\n",
        "    for i in range(1<<bit):\n",
        "        for j in range(bit):\n",
        "            if i & ( 1<<j):\n",
        "                input[ bit - j -1][i] = 1\n",
        "\n",
        "    for i in range( 1<<bit):\n",
        "        for j in range(bit):\n",
        "            if input[j][i] == 1:\n",
        "                label[ 2 * j ][i] = 1\n",
        "                label[ 2 * j +1][i] = 0\n",
        "            else:\n",
        "                label[ 2 *j][i] = 0\n",
        "                label[ 2 * j +1][i] = 1\n",
        "\n",
        "    input = np.tile(np.array(input) ,batch_size) # (8, 1280)\n",
        "    label = np.tile(np.array(label) ,batch_size) #(16, 1280)\n",
        "    \n",
        "    return input, label\n",
        "\n",
        "def generate(M, N, batch_size):\n",
        "\n",
        "    input, label = generate_data_bit(M, batch_size)\n",
        "\n",
        "    ran1 = np.random.permutation(batch_size * pow(2, M))  # Suffling Dataset\n",
        "    ran2 = np.random.permutation(batch_size * pow(2, M))\n",
        "\n",
        "    symbol1 = 2 * input[:, ran1] - 1  # len = 8 [-1, 1]\n",
        "    symbol2 = 2 * input[:, ran2] - 1\n",
        "\n",
        "    SPC = math.sqrt(0.8) * symbol1 + math.sqrt(0.2) * symbol2  # Superposition Coding\n",
        "    # len = 8 , [-/+0.4472136   -/+1.34164079]\n",
        "    \n",
        "    label1 = np.transpose(label[:, ran1].astype('float32'))  # (batch_size * 256, 16)\n",
        "    label2 = np.transpose(label[:, ran2].astype('float32'))\n",
        "    \n",
        "    return SPC, label1, label2\n",
        "\n",
        "def generate_input(H1_real, H1_image, SPC, N, batch_size, sigma):\n",
        "\n",
        "    N_real, N_image = generate_channel(N, batch_size * pow(2, N), 0)\n",
        "\n",
        "    input1_real = np.matmul(H1_real, SPC) + sigma * N_real\n",
        "    input1_img = np.matmul(H1_image, SPC) + sigma * N_image\n",
        "\n",
        "    input1 = np.transpose(np.concatenate((input1_real, input1_img), axis=0))\n",
        "\n",
        "    return input1\n",
        "\n",
        "def generate_channel(N, M, k):\n",
        "\n",
        "    h1 = np.random.randn(N, M) / math.sqrt(2)\n",
        "    h2 = np.random.randn(N, M) / math.sqrt(2)\n",
        "\n",
        "    if k == 0:\n",
        "        return h1, h2\n",
        "    else:\n",
        "        return 2 * h1, 2 * h2"
      ],
      "execution_count": 30,
      "outputs": []
    },
    {
      "cell_type": "code",
      "metadata": {
        "id": "y0YUo1KLAXqn",
        "colab_type": "code",
        "colab": {}
      },
      "source": [
        "def accuracy(out, label, bit):\n",
        "  \n",
        "  accuracy = 0\n",
        "  for i in range(bit):\n",
        "\n",
        "    acc = tf.reduce_mean(tf.cast(tf.equal(tf.argmax(tf.slice(out, [0, 2* i], [-1, 2]), 1),\n",
        "                                              tf.argmax(tf.slice(label, [0, 2 * i], [-1, 2]), 1)),\n",
        "                                     dtype=tf.float32))\n",
        "    accuracy += acc \n",
        "  \n",
        "  return accuracy / 8"
      ],
      "execution_count": 31,
      "outputs": []
    },
    {
      "cell_type": "code",
      "metadata": {
        "id": "FUdqZfuCxFPp",
        "colab_type": "code",
        "colab": {
          "base_uri": "https://localhost:8080/",
          "height": 347
        },
        "outputId": "64ee9c09-75a3-4934-880a-d0afeaef6b14"
      },
      "source": [
        "net = nn.Sequential(\n",
        "    nn.Linear(16, 32), nn.BatchNorm1d(32), nn.ReLU(),\n",
        "    nn.Linear(32, 32), nn.BatchNorm1d(32), nn.ReLU(),\n",
        "    nn.Linear(32, 32), nn.BatchNorm1d(32), nn.ReLU(),\n",
        "    nn.Linear(32, 32), nn.BatchNorm1d(32), nn.ReLU(),\n",
        "    nn.Linear(32, 32), nn.BatchNorm1d(32), nn.ReLU(),\n",
        "    nn.Linear(32, 16), nn.BatchNorm1d(16), \n",
        ")\n",
        "\n",
        "device = torch.device(f'cuda:{0}')\n",
        "loss = nn.MSELoss()\n",
        "net1 = net.to(device = device)\n",
        "net2 = net.to(device = device)\n",
        "def init_weights(m):\n",
        "    if type(m) == nn.Linear:\n",
        "        torch.nn.init.normal_(m.weight, std=0.01)\n",
        "\n",
        "net1.apply(init_weights)\n",
        "net2.apply(init_weights)"
      ],
      "execution_count": 32,
      "outputs": [
        {
          "output_type": "execute_result",
          "data": {
            "text/plain": [
              "Sequential(\n",
              "  (0): Linear(in_features=16, out_features=32, bias=True)\n",
              "  (1): BatchNorm1d(32, eps=1e-05, momentum=0.1, affine=True, track_running_stats=True)\n",
              "  (2): ReLU()\n",
              "  (3): Linear(in_features=32, out_features=32, bias=True)\n",
              "  (4): BatchNorm1d(32, eps=1e-05, momentum=0.1, affine=True, track_running_stats=True)\n",
              "  (5): ReLU()\n",
              "  (6): Linear(in_features=32, out_features=32, bias=True)\n",
              "  (7): BatchNorm1d(32, eps=1e-05, momentum=0.1, affine=True, track_running_stats=True)\n",
              "  (8): ReLU()\n",
              "  (9): Linear(in_features=32, out_features=32, bias=True)\n",
              "  (10): BatchNorm1d(32, eps=1e-05, momentum=0.1, affine=True, track_running_stats=True)\n",
              "  (11): ReLU()\n",
              "  (12): Linear(in_features=32, out_features=32, bias=True)\n",
              "  (13): BatchNorm1d(32, eps=1e-05, momentum=0.1, affine=True, track_running_stats=True)\n",
              "  (14): ReLU()\n",
              "  (15): Linear(in_features=32, out_features=16, bias=True)\n",
              "  (16): BatchNorm1d(16, eps=1e-05, momentum=0.1, affine=True, track_running_stats=True)\n",
              ")"
            ]
          },
          "metadata": {
            "tags": []
          },
          "execution_count": 32
        }
      ]
    },
    {
      "cell_type": "code",
      "metadata": {
        "id": "XxuXo5hyw80A",
        "colab_type": "code",
        "colab": {
          "base_uri": "https://localhost:8080/",
          "height": 901
        },
        "outputId": "deafdfdb-d62e-4501-cc9f-c582ee2e8bb4"
      },
      "source": [
        "H1_real, H1_image = generate_channel(bit, bit, 0)\n",
        "H2_real, H2_image = generate_channel(bit, bit, 1)\n",
        "cnt = 0\n",
        "iter = 10\n",
        "print('training operation')\n",
        "for i in range(len(SNR_db)):\n",
        "\n",
        "            SPC, label1_train, _ = generate(bit, bit, batch_size * train_size)\n",
        "            signal_power = np.mean(pow(SPC, 2))\n",
        "            sigma_user1  = math.sqrt(signal_power / (math.sqrt(bit) * pow(10, float(SNR_db[i]) / 10.0)))\n",
        "            input1_train = generate_input(H1_real, H1_image, SPC, bit, batch_size * train_size, sigma_user1)\n",
        "\n",
        "            SPC, _, label2_train = generate(bit, bit, batch_size * train_size)\n",
        "            signal_power = np.mean(pow(SPC, 2))\n",
        "            sigma_user2 = math.sqrt(signal_power / (math.sqrt(bit) * pow(10, float(SNR_db[i]) / 10.0)))\n",
        "            input2_train = generate_input(H2_real, H2_image, SPC, bit, batch_size * train_size, sigma_user2)\n",
        "            \n",
        "\n",
        "            input1_train = torch.Tensor(input1_train)\n",
        "            label1_train = torch.Tensor(label1_train)\n",
        "            input1 = input1_train.cuda()\n",
        "            label1= label1_train.cuda()\n",
        "\n",
        "            input2_train = torch.Tensor(input2_train)\n",
        "            label2_train = torch.Tensor(label2_train)\n",
        "            input2 = input2_train.cuda()\n",
        "            label2 = label2_train.cuda()\n",
        "\n",
        "            for j in range(iter):\n",
        "              optimizer1 = optim.SGD(net1.parameters(), lr = 0.01)\n",
        "              optimizer1.zero_grad()\n",
        "              output1 = net1(input1)\n",
        "              l1 = loss(output1, label1)\n",
        "              l1.backward()\n",
        "              optimizer1.step()\n",
        "              op1 = torch.Tensor.cpu(output1)\n",
        "              out1 = op1.detach().numpy()\n",
        "              acc1 = accuracy(out1, label1_train, bit)\n",
        "              cnt = cnt+1\n",
        "\n",
        "              output2 = net2(input2)\n",
        "              optimizer2 = optim.SGD(net2.parameters(), lr = 0.01)\n",
        "              optimizer2.zero_grad()\n",
        "              l2 = loss(output2, label2)\n",
        "              l2.backward()\n",
        "              optimizer2.step()  \n",
        "              op2 = torch.Tensor.cpu(output2)\n",
        "              out2 = op2.detach().numpy()\n",
        "              acc2 = accuracy(out2, label2_train, bit)\n",
        "              print(\"iter {} User1 : {} User2 : {}\".format(cnt,acc1,acc2))"
      ],
      "execution_count": 42,
      "outputs": [
        {
          "output_type": "stream",
          "text": [
            "training operation\n",
            "iter 1 User1 : 0.4199674129486084 User2 : 0.522610068321228\n",
            "iter 2 User1 : 0.6187644004821777 User2 : 0.5561283230781555\n",
            "iter 3 User1 : 0.7048574686050415 User2 : 0.5734730958938599\n",
            "iter 4 User1 : 0.7464274168014526 User2 : 0.5862306356430054\n",
            "iter 5 User1 : 0.7725905776023865 User2 : 0.5953549146652222\n",
            "iter 6 User1 : 0.7947612404823303 User2 : 0.6019922494888306\n",
            "iter 7 User1 : 0.8110262155532837 User2 : 0.6070135831832886\n",
            "iter 8 User1 : 0.8248875141143799 User2 : 0.611304521560669\n",
            "iter 9 User1 : 0.8358606696128845 User2 : 0.6145749688148499\n",
            "iter 10 User1 : 0.844341516494751 User2 : 0.6175414323806763\n",
            "iter 11 User1 : 0.8565166592597961 User2 : 0.6209075450897217\n",
            "iter 12 User1 : 0.862900972366333 User2 : 0.6235945224761963\n",
            "iter 13 User1 : 0.8686215281486511 User2 : 0.6261451840400696\n",
            "iter 14 User1 : 0.8734492063522339 User2 : 0.6281435489654541\n",
            "iter 15 User1 : 0.8780032396316528 User2 : 0.6307002902030945\n",
            "iter 16 User1 : 0.8807947635650635 User2 : 0.6311545372009277\n",
            "iter 17 User1 : 0.8800050616264343 User2 : 0.6259288191795349\n",
            "iter 18 User1 : 0.8731811046600342 User2 : 0.6336075067520142\n",
            "iter 19 User1 : 0.8812993168830872 User2 : 0.6341952681541443\n",
            "iter 20 User1 : 0.8881291747093201 User2 : 0.6393371820449829\n",
            "iter 21 User1 : 0.8952057957649231 User2 : 0.6380254626274109\n",
            "iter 22 User1 : 0.9008303284645081 User2 : 0.6426289081573486\n",
            "iter 23 User1 : 0.9017317295074463 User2 : 0.6436541080474854\n",
            "iter 24 User1 : 0.9034589529037476 User2 : 0.6449163556098938\n",
            "iter 25 User1 : 0.9034122228622437 User2 : 0.6430673003196716\n",
            "iter 26 User1 : 0.9031496047973633 User2 : 0.6497266292572021\n",
            "iter 27 User1 : 0.905812680721283 User2 : 0.6496179103851318\n",
            "iter 28 User1 : 0.9101312160491943 User2 : 0.6550709009170532\n",
            "iter 29 User1 : 0.9125709533691406 User2 : 0.6525217890739441\n",
            "iter 30 User1 : 0.9145304560661316 User2 : 0.6504912376403809\n",
            "iter 31 User1 : 0.9141784906387329 User2 : 0.6552338004112244\n",
            "iter 32 User1 : 0.9145939946174622 User2 : 0.6621631383895874\n",
            "iter 33 User1 : 0.9200294017791748 User2 : 0.6565007567405701\n",
            "iter 34 User1 : 0.9181523323059082 User2 : 0.6571305990219116\n",
            "iter 35 User1 : 0.9127162098884583 User2 : 0.659457266330719\n",
            "iter 36 User1 : 0.9171963930130005 User2 : 0.6685346364974976\n",
            "iter 37 User1 : 0.9224908947944641 User2 : 0.6663112044334412\n",
            "iter 38 User1 : 0.9242345094680786 User2 : 0.6694086790084839\n",
            "iter 39 User1 : 0.9263441562652588 User2 : 0.6680848598480225\n",
            "iter 40 User1 : 0.9289844632148743 User2 : 0.671295702457428\n",
            "iter 41 User1 : 0.9338812828063965 User2 : 0.6732182502746582\n",
            "iter 42 User1 : 0.9321236610412598 User2 : 0.6719174981117249\n",
            "iter 43 User1 : 0.9313742518424988 User2 : 0.671915590763092\n",
            "iter 44 User1 : 0.9297844767570496 User2 : 0.6761552691459656\n",
            "iter 45 User1 : 0.9349034428596497 User2 : 0.6834819912910461\n",
            "iter 46 User1 : 0.9376102685928345 User2 : 0.6863781809806824\n",
            "iter 47 User1 : 0.9408254027366638 User2 : 0.6866820454597473\n",
            "iter 48 User1 : 0.9364684820175171 User2 : 0.6810941100120544\n",
            "iter 49 User1 : 0.9384252429008484 User2 : 0.6875714659690857\n",
            "iter 50 User1 : 0.9375616908073425 User2 : 0.6873182058334351\n"
          ],
          "name": "stdout"
        }
      ]
    },
    {
      "cell_type": "code",
      "metadata": {
        "id": "tZKJQ_1zV4bj",
        "colab_type": "code",
        "colab": {
          "base_uri": "https://localhost:8080/",
          "height": 121
        },
        "outputId": "9b681f85-d648-45a8-d059-f93c671b1900"
      },
      "source": [
        "Train = { \"input1_train\" : input1_train, \"train_label1\" : label1_train, \"input2_train\" : input2_train, \"train_label2\" : label2_train }\n",
        "print(\"training data \\n\")\n",
        "print('User1 train input : {}'.format(input1_train.shape))\n",
        "print('User1 train label : {}'.format(label1_train.shape))\n",
        "print('User2 train input : {}'.format(input2_train.shape))\n",
        "print('User2 train label : {}'.format(label2_train.shape))"
      ],
      "execution_count": 43,
      "outputs": [
        {
          "output_type": "stream",
          "text": [
            "training data \n",
            "\n",
            "User1 train input : torch.Size([1280000, 16])\n",
            "User1 train label : torch.Size([1280000, 16])\n",
            "User2 train input : torch.Size([1280000, 16])\n",
            "User2 train label : torch.Size([1280000, 16])\n"
          ],
          "name": "stdout"
        }
      ]
    },
    {
      "cell_type": "code",
      "metadata": {
        "id": "ZtLNFXKF4cWu",
        "colab_type": "code",
        "colab": {}
      },
      "source": [
        "ERROR_user1 = np.zeros([len(SNR_db), 1])\n",
        "ERROR_user2 = np.zeros([len(SNR_db), 1])"
      ],
      "execution_count": 44,
      "outputs": []
    },
    {
      "cell_type": "code",
      "metadata": {
        "id": "9kx-w-Nm_jfy",
        "colab_type": "code",
        "colab": {
          "base_uri": "https://localhost:8080/",
          "height": 35
        },
        "outputId": "9cd5aa67-b43d-454e-dfeb-4a451b518f34"
      },
      "source": [
        "print('testing operation')\n",
        "for i in range(len(SNR_db)):\n",
        "      \n",
        "      SPC_test, label1_test, label2_test = generate(bit, bit, batch_size * test_size)\n",
        "      signal_power = np.mean(pow(SPC, 2))\n",
        "      sigma_test = math.sqrt(signal_power / (math.sqrt(bit) * pow(10, float(SNR_db[i]) / 10.0)))\n",
        "      input1_test = generate_input(H1_real, H1_image, SPC_test, bit, batch_size * test_size, sigma_test)\n",
        "      input2_test = generate_input(H2_real, H2_image, SPC_test, bit, batch_size * test_size, sigma_test)\n",
        "      \n",
        "      input1_test = torch.Tensor(input1_test)\n",
        "      label1_test = torch.Tensor(label1_test)\n",
        "      input_test1 = input1_test.cuda()\n",
        "      label_test1 = label1_test.cuda()\n",
        "      \n",
        "      testop1 = net1(input_test1)\n",
        "      opt1 = torch.Tensor.cpu(testop1)\n",
        "      out1 = opt1.detach().numpy()\n",
        "      ac1 = accuracy(out1, label1_test, bit)\n",
        "      ERROR_user1[i, k] = 1 - ac1\n",
        "\n",
        "      input2_test = torch.Tensor(input2_test)\n",
        "      label2_test = torch.Tensor(label2_test)\n",
        "      input_test2 = input2_test.cuda()\n",
        "      label_test2 = label2_test.cuda()\n",
        "      \n",
        "      testop2 = net2(input_test2)\n",
        "      opt2 = torch.Tensor.cpu(testop2)\n",
        "      out2 = opt2.detach().numpy()\n",
        "      ac2 = accuracy(out2, label2_test, bit)\n",
        "      ERROR_user2[i, k] = 1 - ac2"
      ],
      "execution_count": 45,
      "outputs": [
        {
          "output_type": "stream",
          "text": [
            "testing operation\n"
          ],
          "name": "stdout"
        }
      ]
    },
    {
      "cell_type": "code",
      "metadata": {
        "id": "nKZ95JnDFaXt",
        "colab_type": "code",
        "colab": {
          "base_uri": "https://localhost:8080/",
          "height": 104
        },
        "outputId": "d78da84c-2dc5-4309-f7f8-a982b0a7a4d1"
      },
      "source": [
        "Test = { \"input1_test\" : input1_test, \"input2_test\" : input2_test, \"test_label1\" : label1_test, \"test_label2\" : label2_test }\n",
        "print(\"testing data\")\n",
        "\n",
        "print('User1 test input : {}'.format(input1_test.shape))\n",
        "print('User1 test label : {}'.format(label1_test.shape))\n",
        "print('User2 test input : {}'.format(input2_test.shape))\n",
        "print('User2 test label : {}'.format(label2_test.shape))"
      ],
      "execution_count": 46,
      "outputs": [
        {
          "output_type": "stream",
          "text": [
            "testing data\n",
            "User1 test input : torch.Size([128000, 16])\n",
            "User1 test label : torch.Size([128000, 16])\n",
            "User2 test input : torch.Size([128000, 16])\n",
            "User2 test label : torch.Size([128000, 16])\n"
          ],
          "name": "stdout"
        }
      ]
    },
    {
      "cell_type": "code",
      "metadata": {
        "id": "c64_P4gh6xlC",
        "colab_type": "code",
        "colab": {
          "base_uri": "https://localhost:8080/",
          "height": 347
        },
        "outputId": "9fdf6ff8-9220-431f-be46-03899891f2df"
      },
      "source": [
        "error1 = np.mean(ERROR_user1, axis=1)\n",
        "error2 = np.mean((ERROR_user2), axis=1)\n",
        "# print(H1_real)\n",
        "plt.figure()\n",
        "plt.semilogy(SNR_db, error1, ls='--', marker='o', label='user1')\n",
        "plt.semilogy(SNR_db, error2, ls='--', marker='+', label='user2')\n",
        "for i in range(5):\n",
        "  label1 = \"{:.2f}\".format(error1[i])\n",
        "  label2 = \"{:.2f}\".format(error2[i])\n",
        "  plt.annotate(label1,(SNR_db[i],ERROR_user1[i]))\n",
        "  plt.annotate(label2,(SNR_db[i],ERROR_user2[i]))\n",
        "plt.grid()\n",
        "plt.legend()\n",
        "plt.xlim(pow(10, 0), pow(11, 1))\n",
        "plt.xlabel('SNR')\n",
        "plt.ylabel('SER')\n",
        "plt.title('SER of user2 in MIMO_NOMA BPSK_DNN')\n",
        "plt.savefig('SER_MIMO_NOMA_DNN_BPSK')\n",
        "plt.show()\n",
        "print(\"SNR : {}\".format(SNR_db))\n",
        "print(\"bit error for user 1 at testing : {}\".format(error1))\n",
        "print(\"bit error for user 2 at testing : {}\".format(error2))"
      ],
      "execution_count": 47,
      "outputs": [
        {
          "output_type": "display_data",
          "data": {
            "image/png": "[encoded data removed]",
            "text/plain": [
              "<Figure size 432x288 with 1 Axes>"
            ]
          },
          "metadata": {
            "tags": [],
            "needs_background": "light"
          }
        },
        {
          "output_type": "stream",
          "text": [
            "SNR : [ 2  4  6  8 10]\n",
            "bit error for user 1 at testing : [0.08433008 0.07513869 0.06908393 0.06471288 0.06173432]\n",
            "bit error for user 2 at testing : [0.31761718 0.31570899 0.31475484 0.31375581 0.31367576]\n"
          ],
          "name": "stdout"
        }
      ]
    },
    {
      "cell_type": "code",
      "metadata": {
        "id": "YtG9M7M-GXLb",
        "colab_type": "code",
        "colab": {}
      },
      "source": [
        ""
      ],
      "execution_count": 13,
      "outputs": []
    }
  ]
}