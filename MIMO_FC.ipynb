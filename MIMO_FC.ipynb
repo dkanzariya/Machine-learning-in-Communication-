{
  "nbformat": 4,
  "nbformat_minor": 0,
  "metadata": {
    "colab": {
      "name": "MIMO_FC.ipynb",
      "provenance": [],
      "collapsed_sections": []
    },
    "kernelspec": {
      "name": "python3",
      "display_name": "Python 3"
    },
    "accelerator": "GPU"
  },
  "cells": [
    {
      "cell_type": "markdown",
      "metadata": {
        "id": "W9lggjGaMB6r",
        "colab_type": "text"
      },
      "source": [
        "###Deep MIMO Detection ( Fixed Channel )\n",
        "https://arxiv.org/pdf/1706.01151.pdf"
      ]
    },
    {
      "cell_type": "code",
      "metadata": {
        "id": "3CejEwk4LQUX",
        "colab_type": "code",
        "colab": {}
      },
      "source": [
        "import tensorflow as tf\n",
        "import numpy as np\n",
        "import time as tm\n",
        "from tensorflow import keras\n",
        "import matplotlib.pyplot as plt"
      ],
      "execution_count": null,
      "outputs": []
    },
    {
      "cell_type": "code",
      "metadata": {
        "id": "ksDkltGeLdzW",
        "colab_type": "code",
        "colab": {}
      },
      "source": [
        "def generate_data(B,K,N,snr_low,snr_high,H_org):\n",
        "    # H_=np.random.randn(B,N,K)\n",
        "    x_=np.sign(np.random.rand(B,K)-0.5)\n",
        "    y_=np.zeros([B,N])\n",
        "    w=np.random.randn(B,N)\n",
        "    SNR_ = np.zeros([B])\n",
        "    for i in range(B):\n",
        "\n",
        "      SNR = np.random.uniform(low=snr_low,high=snr_high)\n",
        "      H=H_org\n",
        "      tmp_snr=(H.T.dot(H)).trace()/K\n",
        "      y_[i,:]=(H.dot(x_[i,:])+w[i,:]*np.sqrt(tmp_snr)/np.sqrt(SNR))\n",
        "\n",
        "      SNR_[i]=SNR\n",
        "\n",
        "    return y_,x_,SNR_"
      ],
      "execution_count": null,
      "outputs": []
    },
    {
      "cell_type": "code",
      "metadata": {
        "id": "nm2bE9wYLk3V",
        "colab_type": "code",
        "colab": {}
      },
      "source": [
        "K = 20\n",
        "N = 30\n",
        "B = 10000\n",
        "\n",
        "low_snr_db_train = 7.0\n",
        "high_snr_db_train = 14.0\n",
        "low_snr_db_test = 8.0\n",
        "high_snr_db_test = 13.0\n",
        "\n",
        "num_snr = 6\n",
        "\n",
        "H=np.genfromtxt('Top06_30_20.csv', dtype=None, delimiter=',')\n",
        "\n",
        "#end of parameters\n",
        "\n",
        "low_snr_train = 10.0 ** (low_snr_db_train/10.0)\n",
        "high_snr_train = 10.0 ** (high_snr_db_train/10.0)\n",
        "low_snr_test = 10.0 ** (low_snr_db_test/10.0)\n",
        "high_snr_test = 10.0 ** (high_snr_db_test/10.0)\n",
        "\n",
        "bers = np.zeros((1,num_snr))\n",
        "loss = np.zeros((1,num_snr))\n"
      ],
      "execution_count": null,
      "outputs": []
    },
    {
      "cell_type": "code",
      "metadata": {
        "id": "YcPg3czFDQx8",
        "colab_type": "code",
        "colab": {
          "base_uri": "https://localhost:8080/",
          "height": 35
        },
        "outputId": "52207afe-75a0-4852-96ae-b55424f8d91a"
      },
      "source": [
        "batch_Y, batch_X , SNR1 = generate_data(B , K , N , low_snr_train , high_snr_train , H)\n",
        "print(H.shape)"
      ],
      "execution_count": null,
      "outputs": [
        {
          "output_type": "stream",
          "text": [
            "(30, 20)\n"
          ],
          "name": "stdout"
        }
      ]
    },
    {
      "cell_type": "code",
      "metadata": {
        "id": "Stywbz_gNElE",
        "colab_type": "code",
        "colab": {
          "base_uri": "https://localhost:8080/",
          "height": 89
        },
        "outputId": "5812a059-0a03-4c71-e465-7e20c77de5fa"
      },
      "source": [
        "model = keras.Sequential()\n",
        "model.add(keras.layers.Dense(200, input_shape=(N,),activation=tf.nn.relu))\n",
        "for i in range(4):\n",
        "    model.add(keras.layers.Dense(200,activation=tf.nn.relu))\n",
        "\n",
        "h_final = model.add(keras.layers.Dense(K))"
      ],
      "execution_count": null,
      "outputs": [
        {
          "output_type": "stream",
          "text": [
            "WARNING:tensorflow:From /usr/local/lib/python3.6/dist-packages/tensorflow_core/python/ops/resource_variable_ops.py:1630: calling BaseResourceVariable.__init__ (from tensorflow.python.ops.resource_variable_ops) with constraint is deprecated and will be removed in a future version.\n",
            "Instructions for updating:\n",
            "If using Keras pass *_constraint arguments to layers.\n"
          ],
          "name": "stdout"
        }
      ]
    },
    {
      "cell_type": "code",
      "metadata": {
        "id": "MHT0bObkBF_t",
        "colab_type": "code",
        "colab": {}
      },
      "source": [
        "model.compile(optimizer= tf.train.AdamOptimizer(), loss='mse', \n",
        "              metrics=[tf.keras.metrics.TruePositives()])"
      ],
      "execution_count": null,
      "outputs": []
    },
    {
      "cell_type": "code",
      "metadata": {
        "id": "DEJl5dk7XCf_",
        "colab_type": "code",
        "colab": {
          "base_uri": "https://localhost:8080/",
          "height": 243
        },
        "outputId": "bc113c5b-60fe-487e-c2cd-debdbba23719"
      },
      "source": [
        "history=model.fit(batch_Y, batch_X, epochs=5)\n",
        "model.evaluate(batch_Y,batch_X,10000)"
      ],
      "execution_count": null,
      "outputs": [
        {
          "output_type": "stream",
          "text": [
            "Train on 10000 samples\n",
            "Epoch 1/5\n",
            "10000/10000 [==============================] - 1s 88us/sample - loss: 0.1687 - true_positives: 81770.0000\n",
            "Epoch 2/5\n",
            "10000/10000 [==============================] - 1s 80us/sample - loss: 0.1522 - true_positives: 83974.0000\n",
            "Epoch 3/5\n",
            "10000/10000 [==============================] - 1s 92us/sample - loss: 0.1342 - true_positives: 86527.0000\n",
            "Epoch 4/5\n",
            "10000/10000 [==============================] - 1s 91us/sample - loss: 0.1110 - true_positives: 89622.0000\n",
            "Epoch 5/5\n",
            "10000/10000 [==============================] - 1s 92us/sample - loss: 0.0865 - true_positives: 92705.0000\n",
            "10000/10000 [==============================] - 0s 1us/sample - loss: 0.0778 - true_positives: 94491.0000\n"
          ],
          "name": "stdout"
        },
        {
          "output_type": "execute_result",
          "data": {
            "text/plain": [
              "[0.07778104394674301, 94491.0]"
            ]
          },
          "metadata": {
            "tags": []
          },
          "execution_count": 10
        }
      ]
    },
    {
      "cell_type": "code",
      "metadata": {
        "id": "nZec3sK3ZHE3",
        "colab_type": "code",
        "colab": {
          "base_uri": "https://localhost:8080/",
          "height": 468
        },
        "outputId": "dabb5b0b-1a25-4cd6-ea22-f61284136dfe"
      },
      "source": [
        "# batch_Y[0].reshape(30,)\n",
        "i = int(501)\n",
        "print(batch_Y[i].shape)\n",
        "x = np.expand_dims(batch_Y[i], axis=0)\n",
        "Y = np.vstack([x])\n",
        "classes = model.predict(Y,batch_size = 20)\n",
        "model.summary()\n",
        "result=np.where(classes > 0, 1, -1)\n",
        "result=result.reshape(20,)\n",
        "print(result)\n",
        "X=batch_X[i].reshape(20,)\n",
        "print(X)\n",
        "print(X == result)\n"
      ],
      "execution_count": null,
      "outputs": [
        {
          "output_type": "stream",
          "text": [
            "(30,)\n",
            "Model: \"sequential\"\n",
            "_________________________________________________________________\n",
            "Layer (type)                 Output Shape              Param #   \n",
            "=================================================================\n",
            "dense (Dense)                (None, 200)               6200      \n",
            "_________________________________________________________________\n",
            "dense_1 (Dense)              (None, 200)               40200     \n",
            "_________________________________________________________________\n",
            "dense_2 (Dense)              (None, 200)               40200     \n",
            "_________________________________________________________________\n",
            "dense_3 (Dense)              (None, 200)               40200     \n",
            "_________________________________________________________________\n",
            "dense_4 (Dense)              (None, 200)               40200     \n",
            "_________________________________________________________________\n",
            "dense_5 (Dense)              (None, 20)                4020      \n",
            "=================================================================\n",
            "Total params: 171,020\n",
            "Trainable params: 171,020\n",
            "Non-trainable params: 0\n",
            "_________________________________________________________________\n",
            "[ 1 -1  1  1 -1 -1  1  1 -1 -1  1 -1  1  1 -1 -1 -1 -1  1  1]\n",
            "[ 1. -1.  1.  1. -1. -1.  1.  1. -1. -1.  1. -1.  1.  1. -1. -1. -1. -1.\n",
            "  1.  1.]\n",
            "[ True  True  True  True  True  True  True  True  True  True  True  True\n",
            "  True  True  True  True  True  True  True  True]\n"
          ],
          "name": "stdout"
        }
      ]
    },
    {
      "cell_type": "code",
      "metadata": {
        "id": "9T7ld5b-dBDz",
        "colab_type": "code",
        "colab": {}
      },
      "source": [
        "#test data\n",
        "test_iter = 1\n",
        "tmp_bers = np.zeros((1,test_iter))\n",
        "tmp_times = np.zeros((1,test_iter))\n",
        "times = np.zeros((1,1))\n",
        "testHitCount = 0\n",
        "\n",
        "snr_list_db = np.linspace(low_snr_db_test,high_snr_db_test,num_snr)\n",
        "snr_list = 10.0**(snr_list_db/10.0)"
      ],
      "execution_count": null,
      "outputs": []
    },
    {
      "cell_type": "code",
      "metadata": {
        "id": "zNbAt8G4hXRS",
        "colab_type": "code",
        "colab": {
          "base_uri": "https://localhost:8080/",
          "height": 347
        },
        "outputId": "3bcf80f6-6012-4505-ba71-c7e5821f1ae9"
      },
      "source": [
        "loss = []\n",
        "bers = []\n",
        "\n",
        "for i_snr in range (num_snr):\n",
        "  Cur_SNR = snr_list[i_snr]\n",
        "  print ('cur snr')\n",
        "  print (Cur_SNR)\n",
        "  \n",
        "  for i in range (test_iter):\n",
        "    batch_Y, batch_X , SNR1= generate_data(B , K , N , Cur_SNR , Cur_SNR , H)\n",
        "    tic = tm.time()\n",
        "    [loss,acc] = model.evaluate(batch_Y,batch_X)\n",
        "    tmp_bers[0][i] = acc\n",
        "    # print(tmp_bers)\n",
        "    toc = tm.time()\n",
        "    tmp_times[0][i] = toc-tic\n",
        "  cnt= float(np.mean(tmp_bers[0]))\n",
        "  bers.append([cnt])\n",
        "\n",
        "print(bers)"
      ],
      "execution_count": null,
      "outputs": [
        {
          "output_type": "stream",
          "text": [
            "cur snr\n",
            "6.309573444801933\n",
            "10000/10000 [==============================] - 0s 44us/sample - loss: 0.1777 - true_positives: 87210.0000\n",
            "cur snr\n",
            "7.943282347242816\n",
            "10000/10000 [==============================] - 0s 47us/sample - loss: 0.1401 - true_positives: 89659.0000\n",
            "cur snr\n",
            "10.0\n",
            "10000/10000 [==============================] - 0s 43us/sample - loss: 0.1108 - true_positives: 90980.0000\n",
            "cur snr\n",
            "12.589254117941675\n",
            "10000/10000 [==============================] - 0s 42us/sample - loss: 0.0895 - true_positives: 93391.0000\n",
            "cur snr\n",
            "15.848931924611133\n",
            "10000/10000 [==============================] - 0s 47us/sample - loss: 0.0731 - true_positives: 95423.0000\n",
            "cur snr\n",
            "19.952623149688797\n",
            "10000/10000 [==============================] - 0s 49us/sample - loss: 0.0617 - true_positives: 96348.0000\n",
            "[[87210.0], [89659.0], [90980.0], [93391.0], [95423.0], [96348.0]]\n"
          ],
          "name": "stdout"
        }
      ]
    },
    {
      "cell_type": "code",
      "metadata": {
        "id": "TWTB5ugvxKLC",
        "colab_type": "code",
        "colab": {
          "base_uri": "https://localhost:8080/",
          "height": 265
        },
        "outputId": "a6020792-8c4a-42db-c9c9-a51469140193"
      },
      "source": [
        "# bers =  bers/(K*B)\n",
        "# bers = 1- bers\n",
        "bers = np.reshape(bers,(6,))\n",
        "snrdb_list = np.linspace(low_snr_db_test,high_snr_db_test,num_snr)\n",
        "plt.plot(snrdb_list,bers,color='red', linestyle='dashed', linewidth = 3, \n",
        "         marker='o', markerfacecolor='blue', markersize=12)\n",
        "plt.show() "
      ],
      "execution_count": null,
      "outputs": [
        {
          "output_type": "display_data",
          "data": {
            "image/png": "[encoded data removed]",
            "text/plain": [
              "<Figure size 432x288 with 1 Axes>"
            ]
          },
          "metadata": {
            "tags": []
          }
        }
      ]
    },
    {
      "cell_type": "code",
      "metadata": {
        "id": "rv3zFNFhfVxn",
        "colab_type": "code",
        "colab": {
          "base_uri": "https://localhost:8080/",
          "height": 121
        },
        "outputId": "3b64467a-8555-4064-eb08-eaca1b5f0077"
      },
      "source": [
        "times[0][0] = np.mean(tmp_times[0])/B\n",
        "print ('Average time to detect a single K bit signal is:')\n",
        "print (times)\n",
        "ber =  bers/(K*B*5)\n",
        "be = 1 - ber\n",
        "print('snrdb_list')\n",
        "print(snrdb_list)\n",
        "print ('Bit error rates are is:')\n",
        "print(ber)"
      ],
      "execution_count": null,
      "outputs": [
        {
          "output_type": "stream",
          "text": [
            "Average time to detect a single K bit signal is:\n",
            "[[4.91692066e-05]]\n",
            "snrdb_list\n",
            "[ 8.  9. 10. 11. 12. 13.]\n",
            "Bit error rates are is:\n",
            "[0.08721  0.089659 0.09098  0.093391 0.095423 0.096348]\n"
          ],
          "name": "stdout"
        }
      ]
    },
    {
      "cell_type": "code",
      "metadata": {
        "id": "IgpTTfzzcS7l",
        "colab_type": "code",
        "colab": {
          "base_uri": "https://localhost:8080/",
          "height": 265
        },
        "outputId": "96b6ade2-5647-48f7-b578-4cd6ff0966b6"
      },
      "source": [
        "be = np.reshape(be,(6,))\n",
        "snrdb_list = np.linspace(low_snr_db_test,high_snr_db_test,num_snr)\n",
        "plt.plot(snrdb_list,be,color='red', linestyle='dashed', linewidth = 3, \n",
        "         marker='o', markerfacecolor='blue', markersize=12)\n",
        "plt.show() "
      ],
      "execution_count": null,
      "outputs": [
        {
          "output_type": "display_data",
          "data": {
            "image/png": "[encoded data removed]",
            "text/plain": [
              "<Figure size 432x288 with 1 Axes>"
            ]
          },
          "metadata": {
            "tags": []
          }
        }
      ]
    },
    {
      "cell_type": "code",
      "metadata": {
        "id": "diZB4ie4Wh5C",
        "colab_type": "code",
        "colab": {
          "base_uri": "https://localhost:8080/",
          "height": 104
        },
        "outputId": "ac8924b2-ee29-457e-e1c1-af2e5699ec23"
      },
      "source": [
        "i = int(1066)\n",
        "x = np.expand_dims(batch_Y[i], axis=0)\n",
        "Y = np.vstack([x])\n",
        "classes = model.predict(Y,batch_size = 20)\n",
        "result=np.where(classes > 0, 1, -1)\n",
        "result=result.reshape(20,)\n",
        "print(result)\n",
        "X=batch_X[i].reshape(20,)\n",
        "print(X)\n",
        "print(X == result)"
      ],
      "execution_count": null,
      "outputs": [
        {
          "output_type": "stream",
          "text": [
            "[ 1 -1  1 -1  1  1  1 -1  1  1  1  1 -1 -1  1  1 -1 -1 -1 -1]\n",
            "[ 1. -1.  1. -1.  1.  1.  1. -1.  1.  1.  1.  1. -1. -1.  1.  1. -1. -1.\n",
            " -1. -1.]\n",
            "[ True  True  True  True  True  True  True  True  True  True  True  True\n",
            "  True  True  True  True  True  True  True  True]\n"
          ],
          "name": "stdout"
        }
      ]
    }
  ]
}