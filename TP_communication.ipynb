{
  "nbformat": 4,
  "nbformat_minor": 0,
  "metadata": {
    "colab": {
      "name": "TP_communication.ipynb",
      "provenance": [],
      "collapsed_sections": [],
      "authorship_tag": "ABX9TyN8tl0TuSov+OC6smvLQ5wd",
      "include_colab_link": true
    },
    "kernelspec": {
      "name": "python3",
      "display_name": "Python 3"
    }
  },
  "cells": [
    {
      "cell_type": "markdown",
      "metadata": {
        "id": "view-in-github",
        "colab_type": "text"
      },
      "source": [
        "<a href=\"https://colab.research.google.com/github/dkanzariya/Machine-learning-in-Communication-/blob/master/TP_communication.ipynb\" target=\"_parent\"><img src=\"https://colab.research.google.com/assets/colab-badge.svg\" alt=\"Open In Colab\"/></a>"
      ]
    },
    {
      "cell_type": "code",
      "metadata": {
        "id": "V2-HseAXA0IH",
        "colab_type": "code",
        "colab": {}
      },
      "source": [
        "import numpy as np\n",
        "import torch\n",
        "import math\n",
        "from torch import nn\n",
        "from torch.autograd import Variable"
      ],
      "execution_count": 1,
      "outputs": []
    },
    {
      "cell_type": "markdown",
      "metadata": {
        "id": "i1dVPINZ_6O6",
        "colab_type": "text"
      },
      "source": [
        "#An Introduction to deep learning for the physical layer\n",
        "\n",
        "https://arxiv.org/pdf/1702.00832.pdf"
      ]
    },
    {
      "cell_type": "code",
      "metadata": {
        "id": "57OdoXjmwQSI",
        "colab_type": "code",
        "colab": {}
      },
      "source": [
        "class RadioTransNets(nn.Module):\n",
        "  def __init__(self,in_channel,compossed_dim):\n",
        "    \n",
        "    super(RadioTransNets,self).__init__()\n",
        "    self.in_channel = in_channel\n",
        "\n",
        "    self.encoder = nn.Sequential(\n",
        "        nn.Linear(in_channel , in_channel),\n",
        "        nn.ReLU(inplace = True),\n",
        "        nn.Linear(in_channel,compossed_dim))\n",
        "    \n",
        "    self.decoder = nn.Sequential(\n",
        "        nn.Linear(compossed_dim , compossed_dim),\n",
        "        nn.ReLU(inplace = True),\n",
        "        nn.Linear(compossed_dim ,in_channel))\n",
        "\n",
        "  def forward(self,x):\n",
        "    x = self.encoder(x)\n",
        "\n",
        "    x = (self.in_channel ** 2) * (x/x.norm(dim = -1)[: , None])\n",
        "\n",
        "    noise = Variable(torch.randn(*x.size()) / ((2 * train_snr) ** 0.5))\n",
        "\n",
        "    x+=noise\n",
        "    x = self.decoder(x)\n",
        "\n",
        "    return x"
      ],
      "execution_count": 2,
      "outputs": []
    },
    {
      "cell_type": "code",
      "metadata": {
        "id": "46VgoConAre5",
        "colab_type": "code",
        "colab": {}
      },
      "source": [
        "channel_size = 4\n",
        "train_snr = 5.01187\n",
        "\n",
        "train_labels = (torch.rand(100000) * channel_size).long()\n",
        "train_data = torch.sparse.torch.eye(channel_size).index_select(dim=0, index=train_labels)\n",
        "\n",
        "test_labels = (torch.rand(1500) * channel_size).long()\n",
        "test_data = torch.sparse.torch.eye(channel_size).index_select(dim=0, index=test_labels)"
      ],
      "execution_count": 3,
      "outputs": []
    },
    {
      "cell_type": "markdown",
      "metadata": {
        "id": "DLYffeU6kw_P",
        "colab_type": "text"
      },
      "source": [
        "### Model "
      ]
    },
    {
      "cell_type": "code",
      "metadata": {
        "id": "fW4SDORwA9V-",
        "colab_type": "code",
        "colab": {
          "base_uri": "https://localhost:8080/",
          "height": 225
        },
        "outputId": "0070fdaf-730b-4a2e-98ec-37f04294282b"
      },
      "source": [
        "model = RadioTransNets(channel_size, compossed_dim=int(math.log2(channel_size)))\n",
        "optimizer = torch.optim.Adam(model.parameters())\n",
        "loss_fn = nn.CrossEntropyLoss()\n",
        "\n",
        "def init_weights(m):\n",
        "    if type(m) == nn.Linear:\n",
        "        torch.nn.init.normal_(m.weight, std=0.01)\n",
        "\n",
        "model.apply(init_weights)"
      ],
      "execution_count": 4,
      "outputs": [
        {
          "output_type": "execute_result",
          "data": {
            "text/plain": [
              "RadioTransNets(\n",
              "  (encoder): Sequential(\n",
              "    (0): Linear(in_features=4, out_features=4, bias=True)\n",
              "    (1): ReLU(inplace=True)\n",
              "    (2): Linear(in_features=4, out_features=2, bias=True)\n",
              "  )\n",
              "  (decoder): Sequential(\n",
              "    (0): Linear(in_features=2, out_features=2, bias=True)\n",
              "    (1): ReLU(inplace=True)\n",
              "    (2): Linear(in_features=2, out_features=4, bias=True)\n",
              "  )\n",
              ")"
            ]
          },
          "metadata": {
            "tags": []
          },
          "execution_count": 4
        }
      ]
    },
    {
      "cell_type": "code",
      "metadata": {
        "id": "UXLNgZGpBSFy",
        "colab_type": "code",
        "colab": {
          "base_uri": "https://localhost:8080/",
          "height": 191
        },
        "outputId": "eb1eff61-eadb-4fcf-9367-39aec3823348"
      },
      "source": [
        "for t in range(1000):\n",
        "\n",
        "  train_data = Variable(train_data)\n",
        "  y_train = model(train_data)\n",
        "  loss = loss_fn(y_train, train_labels)\n",
        "  if t%100 == 99:\n",
        "    print(\"epoch : {}      loss : {}\".format(t, loss.item()))\n",
        "\n",
        "  optimizer.zero_grad()\n",
        "  loss.backward()\n",
        "  optimizer.step()"
      ],
      "execution_count": 5,
      "outputs": [
        {
          "output_type": "stream",
          "text": [
            "epoch : 99      loss : 1.3815325498580933\n",
            "epoch : 199      loss : 0.9020938873291016\n",
            "epoch : 299      loss : 0.8471445441246033\n",
            "epoch : 399      loss : 0.8203009963035583\n",
            "epoch : 499      loss : 0.8009700775146484\n",
            "epoch : 599      loss : 0.7696080207824707\n",
            "epoch : 699      loss : 0.4712601602077484\n",
            "epoch : 799      loss : 0.4316464066505432\n",
            "epoch : 899      loss : 0.415547251701355\n",
            "epoch : 999      loss : 0.40644922852516174\n"
          ],
          "name": "stdout"
        }
      ]
    },
    {
      "cell_type": "code",
      "metadata": {
        "id": "KmHro2FtHgwp",
        "colab_type": "code",
        "colab": {
          "base_uri": "https://localhost:8080/",
          "height": 35
        },
        "outputId": "6196ab38-49e5-4f76-fc74-75bf29af068a"
      },
      "source": [
        "y_test = model(test_data)\n",
        "loss = loss_fn(y_test, test_labels)\n",
        "\n",
        "pred = y_test.data.numpy()\n",
        "label = test_labels.data.numpy()\n",
        "pred_output = np.argmax(pred,axis=1)\n",
        "no_errors = (pred_output != label)\n",
        "no_errors =  no_errors.astype(int).sum()\n",
        "ber_test = no_errors / 1500\n",
        "ber_test = np.double(ber_test)\n",
        "\n",
        "print(\"bit error rate : {}  loss : {}\".format(ber_test, loss.item()))"
      ],
      "execution_count": 9,
      "outputs": [
        {
          "output_type": "stream",
          "text": [
            "bit error rate : 0.25866666666666666  loss : 0.40700143575668335\n"
          ],
          "name": "stdout"
        }
      ]
    },
    {
      "cell_type": "code",
      "metadata": {
        "id": "NLi3pONJotmY",
        "colab_type": "code",
        "colab": {}
      },
      "source": [
        ""
      ],
      "execution_count": null,
      "outputs": []
    }
  ]
}