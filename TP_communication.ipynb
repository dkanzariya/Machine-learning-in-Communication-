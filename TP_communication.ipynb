{
  "nbformat": 4,
  "nbformat_minor": 0,
  "metadata": {
    "colab": {
      "name": "TP_communication.ipynb",
      "provenance": [],
      "collapsed_sections": [],
      "authorship_tag": "ABX9TyM3jveC3rJDYFrxbGqfzQxJ",
      "include_colab_link": true
    },
    "kernelspec": {
      "name": "python3",
      "display_name": "Python 3"
    }
  },
  "cells": [
    {
      "cell_type": "markdown",
      "metadata": {
        "id": "view-in-github",
        "colab_type": "text"
      },
      "source": [
        "<a href=\"https://colab.research.google.com/github/dkanzariya/Machine-learning-in-Communication-/blob/master/TP_communication.ipynb\" target=\"_parent\"><img src=\"https://colab.research.google.com/assets/colab-badge.svg\" alt=\"Open In Colab\"/></a>"
      ]
    },
    {
      "cell_type": "code",
      "metadata": {
        "id": "V2-HseAXA0IH",
        "colab_type": "code",
        "colab": {}
      },
      "source": [
        "import numpy as np\n",
        "import torch\n",
        "import math\n",
        "from torch import nn\n",
        "from torch.autograd import Variable"
      ],
      "execution_count": null,
      "outputs": []
    },
    {
      "cell_type": "markdown",
      "metadata": {
        "id": "i1dVPINZ_6O6",
        "colab_type": "text"
      },
      "source": [
        "#An Introduction to deep learning for the physical layer\n",
        "\n",
        "https://arxiv.org/pdf/1702.00832.pdf"
      ]
    },
    {
      "cell_type": "code",
      "metadata": {
        "id": "57OdoXjmwQSI",
        "colab_type": "code",
        "colab": {}
      },
      "source": [
        "class RadioTransNets(nn.Module):\n",
        "  def __init__(self,in_channel,compossed_dim):\n",
        "    \n",
        "    super(RadioTransNets,self).__init__()\n",
        "    self.in_channel = in_channel\n",
        "\n",
        "    self.encoder = nn.Sequential(\n",
        "        nn.Linear(in_channel , in_channel),\n",
        "        nn.ReLU(inplace = True),\n",
        "        nn.Linear(in_channel,compossed_dim))\n",
        "    \n",
        "    self.decoder = nn.Sequential(\n",
        "        nn.Linear(compossed_dim , compossed_dim),\n",
        "        nn.ReLU(inplace = True),\n",
        "        nn.Linear(compossed_dim ,in_channel))\n",
        "\n",
        "  def forward(self,x):\n",
        "    x = self.encoder(x)\n",
        "\n",
        "    x = (self.in_channel ** 2) * (x/x.norm(dim = -1)[: , None])\n",
        "\n",
        "    noise = Variable(torch.randn(*x.size()) / ((2* communication_rate * train_snr) ** 0.5))\n",
        "\n",
        "    x+=noise\n",
        "    x = self.decoder(x)\n",
        "\n",
        "    return x"
      ],
      "execution_count": null,
      "outputs": []
    },
    {
      "cell_type": "code",
      "metadata": {
        "id": "46VgoConAre5",
        "colab_type": "code",
        "colab": {}
      },
      "source": [
        "num_epochs = 100\n",
        "batch_size = 256\n",
        "channel_size = 4\n",
        "train_snr = 5.01187\n",
        "communication_rate = 1\n",
        "\n",
        "train_labels = (torch.rand(10000) * channel_size).long()\n",
        "train_data = torch.sparse.torch.eye(channel_size).index_select(dim=0, index=train_labels)\n",
        "\n",
        "test_labels = (torch.rand(1500) * channel_size).long()\n",
        "test_data = torch.sparse.torch.eye(channel_size).index_select(dim=0, index=test_labels)"
      ],
      "execution_count": null,
      "outputs": []
    },
    {
      "cell_type": "markdown",
      "metadata": {
        "id": "DLYffeU6kw_P",
        "colab_type": "text"
      },
      "source": [
        "#Model \n",
        "~accuracy "
      ]
    },
    {
      "cell_type": "code",
      "metadata": {
        "id": "fW4SDORwA9V-",
        "colab_type": "code",
        "colab": {
          "base_uri": "https://localhost:8080/",
          "height": 225
        },
        "outputId": "dd17a32f-50e2-4c4a-fac3-4603bf6d7e29"
      },
      "source": [
        "model = RadioTransNets(channel_size, compossed_dim=int(math.log2(channel_size)))\n",
        "optimizer = torch.optim.Adam(model.parameters())\n",
        "loss_fn = nn.CrossEntropyLoss()\n",
        "\n",
        "def init_weights(m):\n",
        "    if type(m) == nn.Linear:\n",
        "        torch.nn.init.normal_(m.weight, std=0.01)\n",
        "\n",
        "model.apply(init_weights)"
      ],
      "execution_count": null,
      "outputs": [
        {
          "output_type": "execute_result",
          "data": {
            "text/plain": [
              "RadioTransNets(\n",
              "  (encoder): Sequential(\n",
              "    (0): Linear(in_features=4, out_features=4, bias=True)\n",
              "    (1): ReLU(inplace=True)\n",
              "    (2): Linear(in_features=4, out_features=2, bias=True)\n",
              "  )\n",
              "  (decoder): Sequential(\n",
              "    (0): Linear(in_features=2, out_features=2, bias=True)\n",
              "    (1): ReLU(inplace=True)\n",
              "    (2): Linear(in_features=2, out_features=4, bias=True)\n",
              "  )\n",
              ")"
            ]
          },
          "metadata": {
            "tags": []
          },
          "execution_count": 4
        }
      ]
    },
    {
      "cell_type": "code",
      "metadata": {
        "id": "UXLNgZGpBSFy",
        "colab_type": "code",
        "colab": {
          "base_uri": "https://localhost:8080/",
          "height": 191
        },
        "outputId": "a42a980e-46b1-4c7f-8657-f080aa374a1a"
      },
      "source": [
        "for t in range(1000):\n",
        "\n",
        "  train_data = Variable(train_data)\n",
        "  y_train = model(train_data)\n",
        "  loss = loss_fn(y_train, train_labels)\n",
        "  if t%100 == 99:\n",
        "    pred = y_train.data.numpy()\n",
        "    label = train_labels.data.numpy()\n",
        "    pred_output = np.argmax(pred,axis=1)\n",
        "    no_errors = (pred_output != label)\n",
        "    no_errors =  no_errors.astype(int).sum()\n",
        "    ber = no_errors / 10000\n",
        "    ber = np.double(ber)\n",
        "    # pred_label = torch.max(y_train, 1)[1].data.squeeze()\n",
        "    # accuracy = sum(pred_label == train_labels) / float(train_labels.size(0))\n",
        "    print(\"epoch : {}    accuracy : {}     loss : {}\".format(t, ber, loss.item()))\n",
        "\n",
        "  optimizer.zero_grad()\n",
        "  loss.backward()\n",
        "  optimizer.step()"
      ],
      "execution_count": null,
      "outputs": [
        {
          "output_type": "stream",
          "text": [
            "epoch : 99    accuracy : 0.496     loss : 1.36151921749115\n",
            "epoch : 199    accuracy : 0.4929     loss : 0.9166845679283142\n",
            "epoch : 299    accuracy : 0.4999     loss : 0.8443883657455444\n",
            "epoch : 399    accuracy : 0.249     loss : 0.6221941113471985\n",
            "epoch : 499    accuracy : 0.249     loss : 0.48520106077194214\n",
            "epoch : 599    accuracy : 0.249     loss : 0.45691177248954773\n",
            "epoch : 699    accuracy : 0.249     loss : 0.44023677706718445\n",
            "epoch : 799    accuracy : 0.249     loss : 0.4278075098991394\n",
            "epoch : 899    accuracy : 0.249     loss : 0.41805142164230347\n",
            "epoch : 999    accuracy : 0.249     loss : 0.4099169969558716\n"
          ],
          "name": "stdout"
        }
      ]
    },
    {
      "cell_type": "code",
      "metadata": {
        "id": "KmHro2FtHgwp",
        "colab_type": "code",
        "colab": {
          "base_uri": "https://localhost:8080/",
          "height": 35
        },
        "outputId": "ce2084bd-8b62-48de-995f-6482449719dd"
      },
      "source": [
        "y_test = model(test_data)\n",
        "loss = loss_fn(y_test, test_labels)\n",
        "\n",
        "pred = y_test.data.numpy()\n",
        "label = test_labels.data.numpy()\n",
        "pred_output = np.argmax(pred,axis=1)\n",
        "no_errors = (pred_output != label)\n",
        "no_errors =  no_errors.astype(int).sum()\n",
        "ber_test = no_errors / 1500\n",
        "ber_test = np.double(ber)\n",
        "# pred_labels = torch.max(y_test, 1)[1].data.squeeze()\n",
        "# accuracy = sum(pred_labels == test_labels) / float(test_labels.size(0))\n",
        "\n",
        "print(\"testing accuracy : {}  loss : {}\".format(ber_test, loss.item()))"
      ],
      "execution_count": null,
      "outputs": [
        {
          "output_type": "stream",
          "text": [
            "testing accuracy : 0.25133333333333335  loss : 0.41300496459007263\n"
          ],
          "name": "stdout"
        }
      ]
    }
  ]
}