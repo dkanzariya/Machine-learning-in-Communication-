{
  "nbformat": 4,
  "nbformat_minor": 0,
  "metadata": {
    "colab": {
      "name": "NOMA_DNN encoder-decoder.ipynb",
      "provenance": [],
      "collapsed_sections": [],
      "include_colab_link": true
    },
    "kernelspec": {
      "name": "python3",
      "display_name": "Python 3"
    }
  },
  "cells": [
    {
      "cell_type": "markdown",
      "metadata": {
        "id": "view-in-github",
        "colab_type": "text"
      },
      "source": [
        "<a href=\"https://colab.research.google.com/github/dkanzariya/Machine-learning-in-Communication-/blob/master/NOMA_DNN_encoder_decoder.ipynb\" target=\"_parent\"><img src=\"https://colab.research.google.com/assets/colab-badge.svg\" alt=\"Open In Colab\"/></a>"
      ]
    },
    {
      "cell_type": "code",
      "metadata": {
        "id": "YPjrsdsdqLg_",
        "colab_type": "code",
        "colab": {}
      },
      "source": [
        "import numpy as np\n",
        "import math\n",
        "import torch\n",
        "from torch import nn\n",
        "import matplotlib.pyplot as plt\n",
        "import tensorflow as tf\n",
        "import torch.optim as optim\n",
        "\n",
        "np.random.seed(5)"
      ],
      "execution_count": 1,
      "outputs": []
    },
    {
      "cell_type": "code",
      "metadata": {
        "id": "a-_qhwrYnWAn",
        "colab_type": "code",
        "colab": {}
      },
      "source": [
        "def generate_data_bit(bit, batch_size):\n",
        "\n",
        "    input = [[0 for _ in range(pow(2, bit)) ]for _ in range(bit)]       #len = 8 [0,1]\n",
        "    label = [[0 for _ in range(pow(2, bit)) ]for _ in range( 2 * bit)]   #len = 16 [0,1]\n",
        "\n",
        "    for i in range(1<<bit):\n",
        "        for j in range(bit):\n",
        "            if i & ( 1<<j):\n",
        "                input[ bit - j -1][i] = 1\n",
        "\n",
        "    for i in range( 1<<bit):\n",
        "        for j in range(bit):\n",
        "            if input[j][i] == 1:\n",
        "                label[ 2 * j ][i] = 1\n",
        "                label[ 2 * j +1][i] = 0\n",
        "            else:\n",
        "                label[ 2 *j][i] = 0\n",
        "                label[ 2 * j +1][i] = 1\n",
        "\n",
        "    input = np.tile(np.array(input) ,batch_size) # (8, 1280)\n",
        "    label = np.tile(np.array(label) ,batch_size) #(16, 1280)\n",
        "    \n",
        "    return input, label\n",
        "\n",
        "def generate(M, N, batch_size):\n",
        "\n",
        "    input, label = generate_data_bit(M, batch_size)\n",
        "\n",
        "    ran1 = np.random.permutation(batch_size * pow(2, M))  # Suffling Dataset\n",
        "    ran2 = np.random.permutation(batch_size * pow(2, M))\n",
        "\n",
        "    symbol1 = 2 * input[:, ran1] - 1  # len = 8 [-1, 1]\n",
        "    symbol2 = 2 * input[:, ran2] - 1\n",
        "\n",
        "    SPC = math.sqrt(0.8) * symbol1 + math.sqrt(0.2) * symbol2  # Superposition Coding\n",
        "    # len = 8 , [-/+0.4472136   -/+1.34164079]\n",
        "    \n",
        "    label1 = np.transpose(label[:, ran1].astype('float32'))  # (batch_size * 256, 16)\n",
        "    label2 = np.transpose(label[:, ran2].astype('float32'))\n",
        "    \n",
        "    return SPC, label1, label2\n",
        "\n",
        "def generate_input(H1_real, H1_image, SPC, N, batch_size, sigma):\n",
        "\n",
        "    N_real, N_image = generate_channel(N, batch_size * pow(2, N), 0)\n",
        "\n",
        "    input1_real = np.matmul(H1_real, SPC) + sigma * N_real\n",
        "    input1_img = np.matmul(H1_image, SPC) + sigma * N_image\n",
        "\n",
        "    input1 = np.transpose(np.concatenate((input1_real, input1_img), axis=0))\n",
        "\n",
        "    return input1\n",
        "\n",
        "def generate_channel(N, M, k):\n",
        "\n",
        "    h1 = np.random.randn(N, M) / math.sqrt(2)\n",
        "    h2 = np.random.randn(N, M) / math.sqrt(2)\n",
        "\n",
        "    if k == 0:\n",
        "        return h1, h2\n",
        "    else:\n",
        "        return 2 * h1, 2 * h2"
      ],
      "execution_count": 2,
      "outputs": []
    },
    {
      "cell_type": "code",
      "metadata": {
        "id": "y0YUo1KLAXqn",
        "colab_type": "code",
        "colab": {}
      },
      "source": [
        "def accuracy(out, label, bit):\n",
        "  \n",
        "  accuracy = 0\n",
        "  for i in range(bit):\n",
        "\n",
        "    acc = tf.reduce_mean(tf.cast(tf.equal(tf.argmax(tf.slice(out, [0, 2* i], [-1, 2]), 1),\n",
        "                                              tf.argmax(tf.slice(label, [0, 2 * i], [-1, 2]), 1)),\n",
        "                                     dtype=tf.float32))\n",
        "    accuracy += acc \n",
        "  \n",
        "  return accuracy / 8"
      ],
      "execution_count": 3,
      "outputs": []
    },
    {
      "cell_type": "code",
      "metadata": {
        "id": "FUdqZfuCxFPp",
        "colab_type": "code",
        "colab": {
          "base_uri": "https://localhost:8080/",
          "height": 693
        },
        "outputId": "50741492-c264-4448-81c3-b87c72cd3f43"
      },
      "source": [
        "net = nn.Sequential(\n",
        "    nn.Linear(8, 16), nn.BatchNorm1d(16), nn.ReLU(),\n",
        "    nn.Linear(16, 32), nn.BatchNorm1d(32), nn.ReLU(),\n",
        "    nn.Linear(32, 32), nn.BatchNorm1d(32), nn.ReLU(),\n",
        "    nn.Linear(32, 32), nn.BatchNorm1d(32), nn.ReLU(),\n",
        "    nn.Linear(32, 32), nn.BatchNorm1d(32), nn.ReLU(),\n",
        "    nn.Linear(32, 32), nn.BatchNorm1d(32), nn.ReLU(),\n",
        "    nn.Linear(32, 16), nn.BatchNorm1d(16),\n",
        "    nn.Linear(16, 32), nn.BatchNorm1d(32), nn.ReLU(),\n",
        "    nn.Linear(32, 32), nn.BatchNorm1d(32), nn.ReLU(),\n",
        "    nn.Linear(32, 32), nn.BatchNorm1d(32), nn.ReLU(),\n",
        "    nn.Linear(32, 32), nn.BatchNorm1d(32), nn.ReLU(),\n",
        "    nn.Linear(32, 32), nn.BatchNorm1d(32), nn.ReLU(),\n",
        "    nn.Linear(32, 16), nn.BatchNorm1d(16),  \n",
        ")\n",
        "\n",
        "denet = nn.Sequential(\n",
        "    nn.Linear(16, 32), nn.BatchNorm1d(32), nn.ReLU(),\n",
        "    nn.Linear(32, 32), nn.BatchNorm1d(32), nn.ReLU(),\n",
        "    nn.Linear(32, 32), nn.BatchNorm1d(32), nn.ReLU(),\n",
        "    nn.Linear(32, 32), nn.BatchNorm1d(32), nn.ReLU(),\n",
        "    nn.Linear(32, 32), nn.BatchNorm1d(32), nn.ReLU(),\n",
        "    nn.Linear(32, 16), nn.BatchNorm1d(16), \n",
        ")\n",
        "def init_weights(m):\n",
        "    if type(m) == nn.Linear:\n",
        "        torch.nn.init.normal_(m.weight, std=0.01)\n",
        "\n",
        "device = torch.device('cpu')\n",
        "loss = nn.MSELoss()\n",
        "net1 = net.to(device = device)\n",
        "net2 = net.to(device = device)\n",
        "optimizer1 = optim.SGD(net1.parameters(), lr = 0.01)\n",
        "optimizer2 = optim.SGD(net2.parameters(), lr = 0.01)\n",
        "net1.apply(init_weights)\n",
        "net2.apply(init_weights)"
      ],
      "execution_count": 4,
      "outputs": [
        {
          "output_type": "execute_result",
          "data": {
            "text/plain": [
              "Sequential(\n",
              "  (0): Linear(in_features=8, out_features=16, bias=True)\n",
              "  (1): BatchNorm1d(16, eps=1e-05, momentum=0.1, affine=True, track_running_stats=True)\n",
              "  (2): ReLU()\n",
              "  (3): Linear(in_features=16, out_features=32, bias=True)\n",
              "  (4): BatchNorm1d(32, eps=1e-05, momentum=0.1, affine=True, track_running_stats=True)\n",
              "  (5): ReLU()\n",
              "  (6): Linear(in_features=32, out_features=32, bias=True)\n",
              "  (7): BatchNorm1d(32, eps=1e-05, momentum=0.1, affine=True, track_running_stats=True)\n",
              "  (8): ReLU()\n",
              "  (9): Linear(in_features=32, out_features=32, bias=True)\n",
              "  (10): BatchNorm1d(32, eps=1e-05, momentum=0.1, affine=True, track_running_stats=True)\n",
              "  (11): ReLU()\n",
              "  (12): Linear(in_features=32, out_features=32, bias=True)\n",
              "  (13): BatchNorm1d(32, eps=1e-05, momentum=0.1, affine=True, track_running_stats=True)\n",
              "  (14): ReLU()\n",
              "  (15): Linear(in_features=32, out_features=32, bias=True)\n",
              "  (16): BatchNorm1d(32, eps=1e-05, momentum=0.1, affine=True, track_running_stats=True)\n",
              "  (17): ReLU()\n",
              "  (18): Linear(in_features=32, out_features=16, bias=True)\n",
              "  (19): BatchNorm1d(16, eps=1e-05, momentum=0.1, affine=True, track_running_stats=True)\n",
              "  (20): Linear(in_features=16, out_features=32, bias=True)\n",
              "  (21): BatchNorm1d(32, eps=1e-05, momentum=0.1, affine=True, track_running_stats=True)\n",
              "  (22): ReLU()\n",
              "  (23): Linear(in_features=32, out_features=32, bias=True)\n",
              "  (24): BatchNorm1d(32, eps=1e-05, momentum=0.1, affine=True, track_running_stats=True)\n",
              "  (25): ReLU()\n",
              "  (26): Linear(in_features=32, out_features=32, bias=True)\n",
              "  (27): BatchNorm1d(32, eps=1e-05, momentum=0.1, affine=True, track_running_stats=True)\n",
              "  (28): ReLU()\n",
              "  (29): Linear(in_features=32, out_features=32, bias=True)\n",
              "  (30): BatchNorm1d(32, eps=1e-05, momentum=0.1, affine=True, track_running_stats=True)\n",
              "  (31): ReLU()\n",
              "  (32): Linear(in_features=32, out_features=32, bias=True)\n",
              "  (33): BatchNorm1d(32, eps=1e-05, momentum=0.1, affine=True, track_running_stats=True)\n",
              "  (34): ReLU()\n",
              "  (35): Linear(in_features=32, out_features=16, bias=True)\n",
              "  (36): BatchNorm1d(16, eps=1e-05, momentum=0.1, affine=True, track_running_stats=True)\n",
              ")"
            ]
          },
          "metadata": {
            "tags": []
          },
          "execution_count": 4
        }
      ]
    },
    {
      "cell_type": "code",
      "metadata": {
        "id": "XxuXo5hyw80A",
        "colab_type": "code",
        "colab": {
          "base_uri": "https://localhost:8080/",
          "height": 121
        },
        "outputId": "caa5266d-216e-4ab0-d3ef-36bae696aec6"
      },
      "source": [
        "bit = 8\n",
        "SNR_db = np.array(list(range(2 ,11 ,2)))\n",
        "batch_size = 5\n",
        "cnt = 0\n",
        "iter = 1\n",
        "train_size = 10\n",
        "H1_real, H1_image = generate_channel(bit, bit, 0)\n",
        "H2_real, H2_image = generate_channel(bit, bit, 1)\n",
        "\n",
        "print('training operation')\n",
        "for i in range(len(SNR_db)):\n",
        "\n",
        "            SPC1, label1_train, _ = generate(bit, bit, batch_size * train_size)\n",
        "            signal_power = np.mean(pow(SPC1, 2))\n",
        "            sigma_user1  = math.sqrt(signal_power / (math.sqrt(bit) * pow(10, float(SNR_db[i]) / 10.0)))\n",
        "            input1_train = generate_input(H1_real, H1_image, SPC1, bit, batch_size * train_size, sigma_user1)\n",
        "\n",
        "            SPC2, _, label2_train = generate(bit, bit, batch_size * train_size)\n",
        "            signal_power = np.mean(pow(SPC2, 2))\n",
        "            sigma_user2 = math.sqrt(signal_power / (math.sqrt(bit) * pow(10, float(SNR_db[i]) / 10.0)))\n",
        "            input2_train = generate_input(H2_real, H2_image, SPC2, bit, batch_size * train_size, sigma_user2)\n",
        "                        \n",
        "            input1 = torch.Tensor(input1_train)\n",
        "            label1 = torch.Tensor(label1_train)\n",
        "            # input1 = input1_train.cuda()            \n",
        "            SPC1 = np.transpose(SPC1)\n",
        "            SPC1 = torch.Tensor(SPC1)\n",
        "            # label1= label1_train.cuda()\n",
        "            SPC2 = np.transpose(SPC2)\n",
        "            SPC2 = torch.Tensor(SPC2)\n",
        "            input2 = torch.Tensor(input2_train)\n",
        "            label2 = torch.Tensor(label2_train)\n",
        "            # input2 = input2_train.cuda()\n",
        "            # label2 = label2_train.cuda()\n",
        "\n",
        "            for j in range(iter):\n",
        "\n",
        "              optimizer1.zero_grad()\n",
        "              output1 = net1(SPC1)\n",
        "              l1 = loss(output1, label1)\n",
        "              l1.backward()\n",
        "              optimizer1.step()\n",
        "              op1 = torch.Tensor.cpu(output1)\n",
        "              out1 = op1.detach().numpy()\n",
        "              acc1 = accuracy(out1, label1_train, bit)\n",
        "              cnt = cnt+1\n",
        "\n",
        "              output2 = net2(SPC2)\n",
        "              optimizer2.zero_grad()\n",
        "              l2 = loss(output2, label2)\n",
        "              l2.backward()\n",
        "              optimizer2.step()  \n",
        "              op2 = torch.Tensor.cpu(output2)\n",
        "              out2 = op2.detach().numpy()\n",
        "              acc2 = accuracy(out2, label2_train, bit)\n",
        "              print(\"iter {} User1 : {} User2 : {}\".format(cnt,acc1,acc2))"
      ],
      "execution_count": 5,
      "outputs": [
        {
          "output_type": "stream",
          "text": [
            "training operation\n",
            "iter 1 User1 : 0.49198243021965027 User2 : 0.5328320264816284\n",
            "iter 2 User1 : 0.6186816692352295 User2 : 0.5616015791893005\n",
            "iter 3 User1 : 0.6791601181030273 User2 : 0.5774999856948853\n",
            "iter 4 User1 : 0.7084765434265137 User2 : 0.5793554782867432\n",
            "iter 5 User1 : 0.7229199409484863 User2 : 0.5779004693031311\n"
          ],
          "name": "stdout"
        }
      ]
    },
    {
      "cell_type": "code",
      "metadata": {
        "id": "9kx-w-Nm_jfy",
        "colab_type": "code",
        "colab": {
          "base_uri": "https://localhost:8080/",
          "height": 35
        },
        "outputId": "b43e8cd9-8cd4-42b6-edb0-e5043fbaedd9"
      },
      "source": [
        "ERROR_user1 = np.zeros([len(SNR_db), 1])\n",
        "ERROR_user2 = np.zeros([len(SNR_db), 1])\n",
        "test_size = 100\n",
        "for k in range(1):\n",
        "  print('testing operation')\n",
        "  for i in range(len(SNR_db)):\n",
        "        \n",
        "        SPC_test, label1_test, label2_test = generate(bit, bit, batch_size * test_size)\n",
        "        signal_power = np.mean(pow(SPC_test, 2))\n",
        "        sigma_test = math.sqrt(signal_power / (math.sqrt(bit) * pow(10, float(SNR_db[i]) / 10.0)))\n",
        "        input1_test = generate_input(H1_real, H1_image, SPC_test, bit, batch_size * test_size, sigma_test)\n",
        "        input2_test = generate_input(H2_real, H2_image, SPC_test, bit, batch_size * test_size, sigma_test)\n",
        "        SPC_test = np.transpose(SPC_test)\n",
        "        SPC_test = torch.Tensor(SPC_test)        \n",
        "        input1_test = torch.Tensor(input1_test)\n",
        "        label1_test = torch.Tensor(label1_test)\n",
        "        # input_test1 = input1_test.cuda()\n",
        "        # label_test1 = label1_test.cuda()\n",
        "        \n",
        "        testop1 = net1(SPC_test)\n",
        "        opt1 = torch.Tensor.cpu(testop1)\n",
        "        out1 = opt1.detach().numpy()\n",
        "        ac1 = accuracy(out1, label1_test, bit)\n",
        "        ERROR_user1[i, k] = 1 - ac1\n",
        "\n",
        "        input2_test = torch.Tensor(input2_test)\n",
        "        label2_test = torch.Tensor(label2_test)\n",
        "        # input_test2 = input2_test.cuda()\n",
        "        # label_test2 = label2_test.cuda()\n",
        "        \n",
        "        testop2 = net2(SPC_test)\n",
        "        opt2 = torch.Tensor.cpu(testop2)\n",
        "        out2 = opt2.detach().numpy()\n",
        "        ac2 = accuracy(out2, label2_test, bit)\n",
        "        ERROR_user2[i, k] = 1 - ac2"
      ],
      "execution_count": 6,
      "outputs": [
        {
          "output_type": "stream",
          "text": [
            "testing operation\n"
          ],
          "name": "stdout"
        }
      ]
    },
    {
      "cell_type": "code",
      "metadata": {
        "id": "c64_P4gh6xlC",
        "colab_type": "code",
        "colab": {
          "base_uri": "https://localhost:8080/",
          "height": 347
        },
        "outputId": "6ce82987-61e0-4bda-8e6a-05a3d237ba24"
      },
      "source": [
        "error1 = np.mean(ERROR_user1, axis=1)\n",
        "error2 = np.mean((ERROR_user2), axis=1)\n",
        "plt.figure()\n",
        "plt.semilogy(SNR_db, error1, ls='--', marker='o', label='user1')\n",
        "plt.semilogy(SNR_db, error2, ls='--', marker='+', label='user2')\n",
        "plt.grid()\n",
        "plt.legend()\n",
        "plt.xlim(pow(10, 0), pow(11, 1))\n",
        "plt.xlabel('SNR')\n",
        "plt.ylabel('SER')\n",
        "plt.title('SER of user2 in MIMO_NOMA BPSK_DNN')\n",
        "plt.savefig('SER_MIMO_NOMA_DNN_BPSK')\n",
        "plt.show()\n",
        "print(\"SNR : {}\".format(SNR_db))\n",
        "print(\"bit error for user 1 at testing : {}\".format(error1))\n",
        "print(\"bit error for user 2 at testing : {}\".format(error2))"
      ],
      "execution_count": 7,
      "outputs": [
        {
          "output_type": "display_data",
          "data": {
            "image/png": "[encoded data removed]",
            "text/plain": [
              "<Figure size 432x288 with 1 Axes>"
            ]
          },
          "metadata": {
            "tags": [],
            "needs_background": "light"
          }
        },
        {
          "output_type": "stream",
          "text": [
            "SNR : [ 2  4  6  8 10]\n",
            "bit error for user 1 at testing : [0.25278032 0.25333983 0.25330269 0.25271678 0.25300002]\n",
            "bit error for user 2 at testing : [0.39671975 0.3950879  0.39612895 0.39534765 0.39557028]\n"
          ],
          "name": "stdout"
        }
      ]
    },
    {
      "cell_type": "code",
      "metadata": {
        "id": "YtG9M7M-GXLb",
        "colab_type": "code",
        "colab": {}
      },
      "source": [
        ""
      ],
      "execution_count": 7,
      "outputs": []
    }
  ]
}